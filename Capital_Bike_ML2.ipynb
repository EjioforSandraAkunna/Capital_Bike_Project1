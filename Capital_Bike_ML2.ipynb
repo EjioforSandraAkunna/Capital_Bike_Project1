{
 "cells": [
  {
   "cell_type": "code",
   "execution_count": 4,
   "metadata": {},
   "outputs": [],
   "source": [
    "import pandas as pd\n",
    "import matplotlib.pyplot as pp\n",
    "import numpy as np\n",
    "from datetime import datetime"
   ]
  },
  {
   "cell_type": "code",
   "execution_count": 5,
   "metadata": {},
   "outputs": [],
   "source": [
    "pd.set_option('display.max_rows', 6000)\n",
    "pd.set_option('display.max_columns', 300)\n",
    "pd.set_option('display.width', 150)"
   ]
  },
  {
   "cell_type": "code",
   "execution_count": 7,
   "metadata": {},
   "outputs": [
    {
     "ename": "AttributeError",
     "evalue": "'DataFrame' object has no attribute 'concat'",
     "output_type": "error",
     "traceback": [
      "\u001b[0;31m---------------------------------------------------------------------------\u001b[0m",
      "\u001b[0;31mAttributeError\u001b[0m                            Traceback (most recent call last)",
      "\u001b[1;32m/Users/sandraakunnaejiofor/Documents/CODE ACADEMY BERLIN/Capital_Bike_Project/Capital_Bike_ML2.ipynb Cell 3\u001b[0m in \u001b[0;36m<cell line: 5>\u001b[0;34m()\u001b[0m\n\u001b[1;32m      <a href='vscode-notebook-cell:/Users/sandraakunnaejiofor/Documents/CODE%20ACADEMY%20BERLIN/Capital_Bike_Project/Capital_Bike_ML2.ipynb#W3sZmlsZQ%3D%3D?line=2'>3</a>\u001b[0m Q32012 \u001b[39m=\u001b[39m pd\u001b[39m.\u001b[39mread_csv(\u001b[39m\"\u001b[39m\u001b[39m/Users/sandraakunnaejiofor/Documents/CODE ACADEMY BERLIN/Capital_Bike_Project/2012Q3-capitalbikeshare-tripdata.csv\u001b[39m\u001b[39m\"\u001b[39m, sep\u001b[39m=\u001b[39m\u001b[39m\"\u001b[39m\u001b[39m,\u001b[39m\u001b[39m\"\u001b[39m)\n\u001b[1;32m      <a href='vscode-notebook-cell:/Users/sandraakunnaejiofor/Documents/CODE%20ACADEMY%20BERLIN/Capital_Bike_Project/Capital_Bike_ML2.ipynb#W3sZmlsZQ%3D%3D?line=3'>4</a>\u001b[0m Q42012 \u001b[39m=\u001b[39m pd\u001b[39m.\u001b[39mread_csv(\u001b[39m\"\u001b[39m\u001b[39m/Users/sandraakunnaejiofor/Documents/CODE ACADEMY BERLIN/Capital_Bike_Project/2012Q4-capitalbikeshare-tripdata.csv\u001b[39m\u001b[39m\"\u001b[39m, sep\u001b[39m=\u001b[39m\u001b[39m\"\u001b[39m\u001b[39m,\u001b[39m\u001b[39m\"\u001b[39m)\n\u001b[0;32m----> <a href='vscode-notebook-cell:/Users/sandraakunnaejiofor/Documents/CODE%20ACADEMY%20BERLIN/Capital_Bike_Project/Capital_Bike_ML2.ipynb#W3sZmlsZQ%3D%3D?line=4'>5</a>\u001b[0m H116 \u001b[39m=\u001b[39m Q12012\u001b[39m.\u001b[39;49mconcat(Q22012)\n\u001b[1;32m      <a href='vscode-notebook-cell:/Users/sandraakunnaejiofor/Documents/CODE%20ACADEMY%20BERLIN/Capital_Bike_Project/Capital_Bike_ML2.ipynb#W3sZmlsZQ%3D%3D?line=5'>6</a>\u001b[0m H216 \u001b[39m=\u001b[39m Q32012\u001b[39m.\u001b[39mconcat(Q42012)\n\u001b[1;32m      <a href='vscode-notebook-cell:/Users/sandraakunnaejiofor/Documents/CODE%20ACADEMY%20BERLIN/Capital_Bike_Project/Capital_Bike_ML2.ipynb#W3sZmlsZQ%3D%3D?line=6'>7</a>\u001b[0m df \u001b[39m=\u001b[39m H116\u001b[39m.\u001b[39mconcat(H216)\n",
      "File \u001b[0;32m~/opt/anaconda3/lib/python3.9/site-packages/pandas/core/generic.py:5575\u001b[0m, in \u001b[0;36mNDFrame.__getattr__\u001b[0;34m(self, name)\u001b[0m\n\u001b[1;32m   5568\u001b[0m \u001b[39mif\u001b[39;00m (\n\u001b[1;32m   5569\u001b[0m     name \u001b[39mnot\u001b[39;00m \u001b[39min\u001b[39;00m \u001b[39mself\u001b[39m\u001b[39m.\u001b[39m_internal_names_set\n\u001b[1;32m   5570\u001b[0m     \u001b[39mand\u001b[39;00m name \u001b[39mnot\u001b[39;00m \u001b[39min\u001b[39;00m \u001b[39mself\u001b[39m\u001b[39m.\u001b[39m_metadata\n\u001b[1;32m   5571\u001b[0m     \u001b[39mand\u001b[39;00m name \u001b[39mnot\u001b[39;00m \u001b[39min\u001b[39;00m \u001b[39mself\u001b[39m\u001b[39m.\u001b[39m_accessors\n\u001b[1;32m   5572\u001b[0m     \u001b[39mand\u001b[39;00m \u001b[39mself\u001b[39m\u001b[39m.\u001b[39m_info_axis\u001b[39m.\u001b[39m_can_hold_identifiers_and_holds_name(name)\n\u001b[1;32m   5573\u001b[0m ):\n\u001b[1;32m   5574\u001b[0m     \u001b[39mreturn\u001b[39;00m \u001b[39mself\u001b[39m[name]\n\u001b[0;32m-> 5575\u001b[0m \u001b[39mreturn\u001b[39;00m \u001b[39mobject\u001b[39;49m\u001b[39m.\u001b[39;49m\u001b[39m__getattribute__\u001b[39;49m(\u001b[39mself\u001b[39;49m, name)\n",
      "\u001b[0;31mAttributeError\u001b[0m: 'DataFrame' object has no attribute 'concat'"
     ]
    }
   ],
   "source": [
    "Q12012 = pd.read_csv(\"/Users/sandraakunnaejiofor/Documents/CODE ACADEMY BERLIN/Capital_Bike_Project/2012Q1-capitalbikeshare-tripdata.csv\", sep=\",\")\n",
    "Q22012 = pd.read_csv(\"/Users/sandraakunnaejiofor/Documents/CODE ACADEMY BERLIN/Capital_Bike_Project/2012Q2-capitalbikeshare-tripdata.csv\", sep=\",\")\n",
    "Q32012 = pd.read_csv(\"/Users/sandraakunnaejiofor/Documents/CODE ACADEMY BERLIN/Capital_Bike_Project/2012Q3-capitalbikeshare-tripdata.csv\", sep=\",\")\n",
    "Q42012 = pd.read_csv(\"/Users/sandraakunnaejiofor/Documents/CODE ACADEMY BERLIN/Capital_Bike_Project/2012Q4-capitalbikeshare-tripdata.csv\", sep=\",\")\n",
    "H116 = Q12012.concat(Q22012)\n",
    "H216 = Q32012.concat(Q42012)\n",
    "df = H116.concat(H216)"
   ]
  },
  {
   "cell_type": "code",
   "execution_count": 8,
   "metadata": {},
   "outputs": [
    {
     "name": "stderr",
     "output_type": "stream",
     "text": [
      "/var/folders/1j/30cgkc_x275_pj48vlh0dgz00000gn/T/ipykernel_95339/211901463.py:5: FutureWarning: The frame.append method is deprecated and will be removed from pandas in a future version. Use pandas.concat instead.\n",
      "  H116 = Q12012.append(Q22012)\n",
      "/var/folders/1j/30cgkc_x275_pj48vlh0dgz00000gn/T/ipykernel_95339/211901463.py:6: FutureWarning: The frame.append method is deprecated and will be removed from pandas in a future version. Use pandas.concat instead.\n",
      "  H216 = Q32012.append(Q42012)\n",
      "/var/folders/1j/30cgkc_x275_pj48vlh0dgz00000gn/T/ipykernel_95339/211901463.py:7: FutureWarning: The frame.append method is deprecated and will be removed from pandas in a future version. Use pandas.concat instead.\n",
      "  df = H116.append(H216)\n"
     ]
    }
   ],
   "source": [
    "Q12012 = pd.read_csv(\"/Users/sandraakunnaejiofor/Documents/CODE ACADEMY BERLIN/Capital_Bike_Project/2012Q1-capitalbikeshare-tripdata.csv\", sep=\",\")\n",
    "Q22012 = pd.read_csv(\"/Users/sandraakunnaejiofor/Documents/CODE ACADEMY BERLIN/Capital_Bike_Project/2012Q2-capitalbikeshare-tripdata.csv\", sep=\",\")\n",
    "Q32012 = pd.read_csv(\"/Users/sandraakunnaejiofor/Documents/CODE ACADEMY BERLIN/Capital_Bike_Project/2012Q3-capitalbikeshare-tripdata.csv\", sep=\",\")\n",
    "Q42012 = pd.read_csv(\"/Users/sandraakunnaejiofor/Documents/CODE ACADEMY BERLIN/Capital_Bike_Project/2012Q4-capitalbikeshare-tripdata.csv\", sep=\",\")\n",
    "H116 = Q12012.append(Q22012)\n",
    "H216 = Q32012.append(Q42012)\n",
    "df = H116.append(H216)"
   ]
  },
  {
   "cell_type": "code",
   "execution_count": 9,
   "metadata": {},
   "outputs": [],
   "source": [
    "df['Trip count'] = 1"
   ]
  },
  {
   "cell_type": "code",
   "execution_count": 10,
   "metadata": {},
   "outputs": [],
   "source": [
    "df['Start date'] = pd.to_datetime(df['Start date'], format=\"%Y/%m/%d %H:%M:%S\")"
   ]
  },
  {
   "cell_type": "code",
   "execution_count": 11,
   "metadata": {},
   "outputs": [],
   "source": [
    "df['Start Year'] = df['Start date'].dt.year"
   ]
  },
  {
   "cell_type": "code",
   "execution_count": 12,
   "metadata": {},
   "outputs": [],
   "source": [
    "df['Start Month'] = df['Start date'].dt.month"
   ]
  },
  {
   "cell_type": "code",
   "execution_count": 13,
   "metadata": {},
   "outputs": [],
   "source": [
    "df['StartDayofweek']=df['Start date'].dt.weekday"
   ]
  },
  {
   "cell_type": "code",
   "execution_count": 14,
   "metadata": {},
   "outputs": [],
   "source": [
    "df['Start hour'] = df['Start date'].dt.hour"
   ]
  },
  {
   "cell_type": "code",
   "execution_count": 15,
   "metadata": {},
   "outputs": [],
   "source": [
    "df['Start day'] = df['Start date'].dt.day"
   ]
  },
  {
   "cell_type": "code",
   "execution_count": 16,
   "metadata": {},
   "outputs": [],
   "source": [
    "#extract different datemetrics for end time\n",
    "df['End date'] = pd.to_datetime(df['End date'], format=\"%Y/%m/%d %H:%M:%S\")\n",
    "#extract year\n",
    "df['End Year'] = df['End date'].dt.year\n",
    "#extract month\n",
    "df['End Month'] = df['End date'].dt.month\n",
    "#find day of the week\n",
    "#0-6, Sunday-Saturday\n",
    "df['ENDDayofweek']=df['End date'].dt.weekday\n",
    "#extract hour of the day, goes from 0-23\n",
    "df['End hour'] = df['End date'].dt.hour\n",
    "#extract day\n",
    "df['End day'] = df['End date'].dt.day"
   ]
  },
  {
   "cell_type": "code",
   "execution_count": 17,
   "metadata": {},
   "outputs": [
    {
     "data": {
      "text/html": [
       "<div>\n",
       "<style scoped>\n",
       "    .dataframe tbody tr th:only-of-type {\n",
       "        vertical-align: middle;\n",
       "    }\n",
       "\n",
       "    .dataframe tbody tr th {\n",
       "        vertical-align: top;\n",
       "    }\n",
       "\n",
       "    .dataframe thead th {\n",
       "        text-align: right;\n",
       "    }\n",
       "</style>\n",
       "<table border=\"1\" class=\"dataframe\">\n",
       "  <thead>\n",
       "    <tr style=\"text-align: right;\">\n",
       "      <th></th>\n",
       "      <th>Duration</th>\n",
       "      <th>Start date</th>\n",
       "      <th>End date</th>\n",
       "      <th>Start station number</th>\n",
       "      <th>Start station</th>\n",
       "      <th>End station number</th>\n",
       "      <th>End station</th>\n",
       "      <th>Bike number</th>\n",
       "      <th>Member type</th>\n",
       "      <th>Trip count</th>\n",
       "      <th>Start Year</th>\n",
       "      <th>Start Month</th>\n",
       "      <th>StartDayofweek</th>\n",
       "      <th>Start hour</th>\n",
       "      <th>Start day</th>\n",
       "      <th>End Year</th>\n",
       "      <th>End Month</th>\n",
       "      <th>ENDDayofweek</th>\n",
       "      <th>End hour</th>\n",
       "      <th>End day</th>\n",
       "    </tr>\n",
       "  </thead>\n",
       "  <tbody>\n",
       "    <tr>\n",
       "      <th>0</th>\n",
       "      <td>475</td>\n",
       "      <td>2012-01-01 00:04:00</td>\n",
       "      <td>2012-01-01 00:11:56</td>\n",
       "      <td>31245</td>\n",
       "      <td>7th &amp; R St NW / Shaw Library</td>\n",
       "      <td>31109</td>\n",
       "      <td>7th &amp; T St NW</td>\n",
       "      <td>W01412</td>\n",
       "      <td>Member</td>\n",
       "      <td>1</td>\n",
       "      <td>2012</td>\n",
       "      <td>1</td>\n",
       "      <td>6</td>\n",
       "      <td>0</td>\n",
       "      <td>1</td>\n",
       "      <td>2012</td>\n",
       "      <td>1</td>\n",
       "      <td>6</td>\n",
       "      <td>0</td>\n",
       "      <td>1</td>\n",
       "    </tr>\n",
       "    <tr>\n",
       "      <th>1</th>\n",
       "      <td>1162</td>\n",
       "      <td>2012-01-01 00:10:05</td>\n",
       "      <td>2012-01-01 00:29:28</td>\n",
       "      <td>31400</td>\n",
       "      <td>Georgia &amp; New Hampshire Ave NW</td>\n",
       "      <td>31103</td>\n",
       "      <td>16th &amp; Harvard St NW</td>\n",
       "      <td>W00524</td>\n",
       "      <td>Casual</td>\n",
       "      <td>1</td>\n",
       "      <td>2012</td>\n",
       "      <td>1</td>\n",
       "      <td>6</td>\n",
       "      <td>0</td>\n",
       "      <td>1</td>\n",
       "      <td>2012</td>\n",
       "      <td>1</td>\n",
       "      <td>6</td>\n",
       "      <td>0</td>\n",
       "      <td>1</td>\n",
       "    </tr>\n",
       "    <tr>\n",
       "      <th>2</th>\n",
       "      <td>1145</td>\n",
       "      <td>2012-01-01 00:10:23</td>\n",
       "      <td>2012-01-01 00:29:28</td>\n",
       "      <td>31400</td>\n",
       "      <td>Georgia &amp; New Hampshire Ave NW</td>\n",
       "      <td>31103</td>\n",
       "      <td>16th &amp; Harvard St NW</td>\n",
       "      <td>W00235</td>\n",
       "      <td>Member</td>\n",
       "      <td>1</td>\n",
       "      <td>2012</td>\n",
       "      <td>1</td>\n",
       "      <td>6</td>\n",
       "      <td>0</td>\n",
       "      <td>1</td>\n",
       "      <td>2012</td>\n",
       "      <td>1</td>\n",
       "      <td>6</td>\n",
       "      <td>0</td>\n",
       "      <td>1</td>\n",
       "    </tr>\n",
       "    <tr>\n",
       "      <th>3</th>\n",
       "      <td>485</td>\n",
       "      <td>2012-01-01 00:15:41</td>\n",
       "      <td>2012-01-01 00:23:46</td>\n",
       "      <td>31101</td>\n",
       "      <td>14th &amp; V St NW</td>\n",
       "      <td>31602</td>\n",
       "      <td>Park Rd &amp; Holmead Pl NW</td>\n",
       "      <td>W00864</td>\n",
       "      <td>Member</td>\n",
       "      <td>1</td>\n",
       "      <td>2012</td>\n",
       "      <td>1</td>\n",
       "      <td>6</td>\n",
       "      <td>0</td>\n",
       "      <td>1</td>\n",
       "      <td>2012</td>\n",
       "      <td>1</td>\n",
       "      <td>6</td>\n",
       "      <td>0</td>\n",
       "      <td>1</td>\n",
       "    </tr>\n",
       "    <tr>\n",
       "      <th>4</th>\n",
       "      <td>471</td>\n",
       "      <td>2012-01-01 00:15:42</td>\n",
       "      <td>2012-01-01 00:23:34</td>\n",
       "      <td>31102</td>\n",
       "      <td>11th &amp; Kenyon St NW</td>\n",
       "      <td>31109</td>\n",
       "      <td>7th &amp; T St NW</td>\n",
       "      <td>W00995</td>\n",
       "      <td>Member</td>\n",
       "      <td>1</td>\n",
       "      <td>2012</td>\n",
       "      <td>1</td>\n",
       "      <td>6</td>\n",
       "      <td>0</td>\n",
       "      <td>1</td>\n",
       "      <td>2012</td>\n",
       "      <td>1</td>\n",
       "      <td>6</td>\n",
       "      <td>0</td>\n",
       "      <td>1</td>\n",
       "    </tr>\n",
       "  </tbody>\n",
       "</table>\n",
       "</div>"
      ],
      "text/plain": [
       "   Duration          Start date            End date  Start station number                   Start station  End station number  \\\n",
       "0       475 2012-01-01 00:04:00 2012-01-01 00:11:56                 31245    7th & R St NW / Shaw Library               31109   \n",
       "1      1162 2012-01-01 00:10:05 2012-01-01 00:29:28                 31400  Georgia & New Hampshire Ave NW               31103   \n",
       "2      1145 2012-01-01 00:10:23 2012-01-01 00:29:28                 31400  Georgia & New Hampshire Ave NW               31103   \n",
       "3       485 2012-01-01 00:15:41 2012-01-01 00:23:46                 31101                  14th & V St NW               31602   \n",
       "4       471 2012-01-01 00:15:42 2012-01-01 00:23:34                 31102             11th & Kenyon St NW               31109   \n",
       "\n",
       "               End station Bike number Member type  Trip count  Start Year  Start Month  StartDayofweek  Start hour  Start day  End Year  End Month  \\\n",
       "0            7th & T St NW      W01412      Member           1        2012            1               6           0          1      2012          1   \n",
       "1     16th & Harvard St NW      W00524      Casual           1        2012            1               6           0          1      2012          1   \n",
       "2     16th & Harvard St NW      W00235      Member           1        2012            1               6           0          1      2012          1   \n",
       "3  Park Rd & Holmead Pl NW      W00864      Member           1        2012            1               6           0          1      2012          1   \n",
       "4            7th & T St NW      W00995      Member           1        2012            1               6           0          1      2012          1   \n",
       "\n",
       "   ENDDayofweek  End hour  End day  \n",
       "0             6         0        1  \n",
       "1             6         0        1  \n",
       "2             6         0        1  \n",
       "3             6         0        1  \n",
       "4             6         0        1  "
      ]
     },
     "execution_count": 17,
     "metadata": {},
     "output_type": "execute_result"
    }
   ],
   "source": [
    "df.head(5)"
   ]
  },
  {
   "cell_type": "code",
   "execution_count": 18,
   "metadata": {},
   "outputs": [
    {
     "data": {
      "text/html": [
       "<div>\n",
       "<style scoped>\n",
       "    .dataframe tbody tr th:only-of-type {\n",
       "        vertical-align: middle;\n",
       "    }\n",
       "\n",
       "    .dataframe tbody tr th {\n",
       "        vertical-align: top;\n",
       "    }\n",
       "\n",
       "    .dataframe thead th {\n",
       "        text-align: right;\n",
       "    }\n",
       "</style>\n",
       "<table border=\"1\" class=\"dataframe\">\n",
       "  <thead>\n",
       "    <tr style=\"text-align: right;\">\n",
       "      <th></th>\n",
       "      <th>Duration</th>\n",
       "      <th>Start date</th>\n",
       "      <th>End date</th>\n",
       "      <th>Start station number</th>\n",
       "      <th>Start station</th>\n",
       "      <th>End station number</th>\n",
       "      <th>End station</th>\n",
       "      <th>Bike number</th>\n",
       "      <th>Member type</th>\n",
       "      <th>Trip count</th>\n",
       "      <th>Start Year</th>\n",
       "      <th>Start Month</th>\n",
       "      <th>StartDayofweek</th>\n",
       "      <th>Start hour</th>\n",
       "      <th>Start day</th>\n",
       "      <th>End Year</th>\n",
       "      <th>End Month</th>\n",
       "      <th>ENDDayofweek</th>\n",
       "      <th>End hour</th>\n",
       "      <th>End day</th>\n",
       "    </tr>\n",
       "  </thead>\n",
       "  <tbody>\n",
       "    <tr>\n",
       "      <th>470840</th>\n",
       "      <td>8630</td>\n",
       "      <td>2012-12-31 23:51:38</td>\n",
       "      <td>2013-01-01 02:15:29</td>\n",
       "      <td>31619</td>\n",
       "      <td>Lincoln Park / 13th &amp; East Capitol St NE</td>\n",
       "      <td>31619</td>\n",
       "      <td>Lincoln Park / 13th &amp; East Capitol St NE</td>\n",
       "      <td>W00704</td>\n",
       "      <td>Casual</td>\n",
       "      <td>1</td>\n",
       "      <td>2012</td>\n",
       "      <td>12</td>\n",
       "      <td>0</td>\n",
       "      <td>23</td>\n",
       "      <td>31</td>\n",
       "      <td>2013</td>\n",
       "      <td>1</td>\n",
       "      <td>1</td>\n",
       "      <td>2</td>\n",
       "      <td>1</td>\n",
       "    </tr>\n",
       "    <tr>\n",
       "      <th>470841</th>\n",
       "      <td>418</td>\n",
       "      <td>2012-12-31 23:56:19</td>\n",
       "      <td>2013-01-01 00:03:17</td>\n",
       "      <td>31101</td>\n",
       "      <td>14th &amp; V St NW</td>\n",
       "      <td>31200</td>\n",
       "      <td>Massachusetts Ave &amp; Dupont Circle NW</td>\n",
       "      <td>W00098</td>\n",
       "      <td>Member</td>\n",
       "      <td>1</td>\n",
       "      <td>2012</td>\n",
       "      <td>12</td>\n",
       "      <td>0</td>\n",
       "      <td>23</td>\n",
       "      <td>31</td>\n",
       "      <td>2013</td>\n",
       "      <td>1</td>\n",
       "      <td>1</td>\n",
       "      <td>0</td>\n",
       "      <td>1</td>\n",
       "    </tr>\n",
       "    <tr>\n",
       "      <th>470842</th>\n",
       "      <td>384</td>\n",
       "      <td>2012-12-31 23:56:35</td>\n",
       "      <td>2013-01-01 00:03:00</td>\n",
       "      <td>31101</td>\n",
       "      <td>14th &amp; V St NW</td>\n",
       "      <td>31200</td>\n",
       "      <td>Massachusetts Ave &amp; Dupont Circle NW</td>\n",
       "      <td>W01398</td>\n",
       "      <td>Member</td>\n",
       "      <td>1</td>\n",
       "      <td>2012</td>\n",
       "      <td>12</td>\n",
       "      <td>0</td>\n",
       "      <td>23</td>\n",
       "      <td>31</td>\n",
       "      <td>2013</td>\n",
       "      <td>1</td>\n",
       "      <td>1</td>\n",
       "      <td>0</td>\n",
       "      <td>1</td>\n",
       "    </tr>\n",
       "    <tr>\n",
       "      <th>470843</th>\n",
       "      <td>448</td>\n",
       "      <td>2012-12-31 23:58:20</td>\n",
       "      <td>2013-01-01 00:05:49</td>\n",
       "      <td>31613</td>\n",
       "      <td>Eastern Market Metro / Pennsylvania Ave &amp; 7th ...</td>\n",
       "      <td>31607</td>\n",
       "      <td>14th &amp; D St SE</td>\n",
       "      <td>W01301</td>\n",
       "      <td>Member</td>\n",
       "      <td>1</td>\n",
       "      <td>2012</td>\n",
       "      <td>12</td>\n",
       "      <td>0</td>\n",
       "      <td>23</td>\n",
       "      <td>31</td>\n",
       "      <td>2013</td>\n",
       "      <td>1</td>\n",
       "      <td>1</td>\n",
       "      <td>0</td>\n",
       "      <td>1</td>\n",
       "    </tr>\n",
       "    <tr>\n",
       "      <th>470844</th>\n",
       "      <td>251</td>\n",
       "      <td>2012-12-31 23:59:23</td>\n",
       "      <td>2013-01-01 00:03:34</td>\n",
       "      <td>31223</td>\n",
       "      <td>Convention Center / 7th &amp; M St NW</td>\n",
       "      <td>31241</td>\n",
       "      <td>Thomas Circle</td>\n",
       "      <td>W01460</td>\n",
       "      <td>Member</td>\n",
       "      <td>1</td>\n",
       "      <td>2012</td>\n",
       "      <td>12</td>\n",
       "      <td>0</td>\n",
       "      <td>23</td>\n",
       "      <td>31</td>\n",
       "      <td>2013</td>\n",
       "      <td>1</td>\n",
       "      <td>1</td>\n",
       "      <td>0</td>\n",
       "      <td>1</td>\n",
       "    </tr>\n",
       "  </tbody>\n",
       "</table>\n",
       "</div>"
      ],
      "text/plain": [
       "        Duration          Start date            End date  Start station number                                      Start station  \\\n",
       "470840      8630 2012-12-31 23:51:38 2013-01-01 02:15:29                 31619          Lincoln Park / 13th & East Capitol St NE    \n",
       "470841       418 2012-12-31 23:56:19 2013-01-01 00:03:17                 31101                                     14th & V St NW   \n",
       "470842       384 2012-12-31 23:56:35 2013-01-01 00:03:00                 31101                                     14th & V St NW   \n",
       "470843       448 2012-12-31 23:58:20 2013-01-01 00:05:49                 31613  Eastern Market Metro / Pennsylvania Ave & 7th ...   \n",
       "470844       251 2012-12-31 23:59:23 2013-01-01 00:03:34                 31223                  Convention Center / 7th & M St NW   \n",
       "\n",
       "        End station number                                End station Bike number Member type  Trip count  Start Year  Start Month  StartDayofweek  \\\n",
       "470840               31619  Lincoln Park / 13th & East Capitol St NE       W00704      Casual           1        2012           12               0   \n",
       "470841               31200       Massachusetts Ave & Dupont Circle NW      W00098      Member           1        2012           12               0   \n",
       "470842               31200       Massachusetts Ave & Dupont Circle NW      W01398      Member           1        2012           12               0   \n",
       "470843               31607                             14th & D St SE      W01301      Member           1        2012           12               0   \n",
       "470844               31241                              Thomas Circle      W01460      Member           1        2012           12               0   \n",
       "\n",
       "        Start hour  Start day  End Year  End Month  ENDDayofweek  End hour  End day  \n",
       "470840          23         31      2013          1             1         2        1  \n",
       "470841          23         31      2013          1             1         0        1  \n",
       "470842          23         31      2013          1             1         0        1  \n",
       "470843          23         31      2013          1             1         0        1  \n",
       "470844          23         31      2013          1             1         0        1  "
      ]
     },
     "execution_count": 18,
     "metadata": {},
     "output_type": "execute_result"
    }
   ],
   "source": [
    "df.tail(5)"
   ]
  },
  {
   "cell_type": "code",
   "execution_count": 20,
   "metadata": {},
   "outputs": [
    {
     "data": {
      "text/plain": [
       "Duration                         int64\n",
       "Start date              datetime64[ns]\n",
       "End date                datetime64[ns]\n",
       "Start station number             int64\n",
       "Start station                   object\n",
       "End station number               int64\n",
       "End station                     object\n",
       "Bike number                     object\n",
       "Member type                     object\n",
       "Trip count                       int64\n",
       "Start Year                       int64\n",
       "Start Month                      int64\n",
       "StartDayofweek                   int64\n",
       "Start hour                       int64\n",
       "Start day                        int64\n",
       "End Year                         int64\n",
       "End Month                        int64\n",
       "ENDDayofweek                     int64\n",
       "End hour                         int64\n",
       "End day                          int64\n",
       "dtype: object"
      ]
     },
     "execution_count": 20,
     "metadata": {},
     "output_type": "execute_result"
    }
   ],
   "source": [
    "df.dtypes"
   ]
  },
  {
   "cell_type": "code",
   "execution_count": 21,
   "metadata": {},
   "outputs": [
    {
     "data": {
      "text/plain": [
       "2028911"
      ]
     },
     "execution_count": 21,
     "metadata": {},
     "output_type": "execute_result"
    }
   ],
   "source": [
    "len(df.index)"
   ]
  },
  {
   "cell_type": "code",
   "execution_count": 22,
   "metadata": {},
   "outputs": [
    {
     "data": {
      "text/plain": [
       "(2028911, 20)"
      ]
     },
     "execution_count": 22,
     "metadata": {},
     "output_type": "execute_result"
    }
   ],
   "source": [
    "df.shape"
   ]
  },
  {
   "cell_type": "code",
   "execution_count": 44,
   "metadata": {},
   "outputs": [
    {
     "data": {
      "image/png": "[encoded data removed]",
      "text/plain": [
       "<Figure size 720x720 with 1 Axes>"
      ]
     },
     "metadata": {
      "needs_background": "light"
     },
     "output_type": "display_data"
    }
   ],
   "source": [
    "#see which stations are popular\n",
    "endstations = df.groupby(['End station']).sum()\n",
    "endstation = endstations.drop(['Duration', 'Start station number', 'Start Year', 'End station number', 'End hour', 'Start day', 'Start hour', 'End day', 'ENDDayofweek', 'Start Month', 'StartDayofweek','End Year', 'End Month', 'StartDayofweek'], axis=1)\n",
    "#subset down to top stations\n",
    "subset = endstation.sort_values(by='Trip count',ascending=False).head(15)\n",
    "#get bar graph of all Start Stations\n",
    "subset.plot(kind='bar', figsize=(10,10), stacked=False, color='Green', title=' End Stations')\n",
    "pp.show()"
   ]
  },
  {
   "cell_type": "code",
   "execution_count": 43,
   "metadata": {},
   "outputs": [
    {
     "data": {
      "image/png": "[encoded data removed]",
      "text/plain": [
       "<Figure size 720x720 with 1 Axes>"
      ]
     },
     "metadata": {
      "needs_background": "light"
     },
     "output_type": "display_data"
    }
   ],
   "source": [
    "#see which stations are popular\n",
    "startstations = df.groupby(['Start station']).sum()\n",
    "startstation = startstations.drop(['Duration', 'Start station number', 'Start Year', 'End station number', 'End hour', 'Start day', 'Start hour', 'End day', 'ENDDayofweek', 'Start Month', 'StartDayofweek','End Year', 'End Month', 'StartDayofweek'], axis=1)\n",
    "#subset down to top stations\n",
    "subset = startstation.sort_values(by='Trip count',ascending=False).head(15)\n",
    "#get bar graph of all Start Stations\n",
    "subset.plot(kind='bar', figsize=(10,10), stacked=False, color='Green', title=' Start Stations')\n",
    "pp.show()"
   ]
  },
  {
   "cell_type": "code",
   "execution_count": 42,
   "metadata": {},
   "outputs": [
    {
     "data": {
      "image/png": "[encoded data removed]",
      "text/plain": [
       "<Figure size 720x432 with 1 Axes>"
      ]
     },
     "metadata": {
      "needs_background": "light"
     },
     "output_type": "display_data"
    }
   ],
   "source": [
    "#see which months have most trips\n",
    "startmonth = df.groupby('Start Month').sum()\n",
    "startmonth = startmonth.drop(['Duration', 'Start station number', 'End station number', 'Start day', 'End day', 'Start Year', 'StartDayofweek', 'Start hour', 'End Year', 'End Month', 'ENDDayofweek', 'End hour'], axis=1)\n",
    "#get bar graph of all Start Stations\n",
    "startmonth.plot(kind='bar', figsize=(10,6), stacked=False, color='Green', title='Months 2012')\n",
    "pp.show()"
   ]
  },
  {
   "cell_type": "code",
   "execution_count": 41,
   "metadata": {},
   "outputs": [
    {
     "data": {
      "image/png": "[encoded data removed]",
      "text/plain": [
       "<Figure size 720x432 with 1 Axes>"
      ]
     },
     "metadata": {
      "needs_background": "light"
     },
     "output_type": "display_data"
    }
   ],
   "source": [
    "#see which months have most trips\n",
    "endmonth = df.groupby('End Month').sum()\n",
    "endmonth = endmonth.drop(['Duration', 'Start station number', 'End station number', 'Start day', 'End day', 'Start Year', 'StartDayofweek', 'Start hour', 'End Year', 'Start Month', 'ENDDayofweek', 'End hour'], axis=1)\n",
    "#get bar graph of all Start Stations\n",
    "endmonth.plot(kind='bar', figsize=(10,6), stacked=False, color='Green', title=' End Months 2012')\n",
    "pp.show()"
   ]
  },
  {
   "cell_type": "code",
   "execution_count": 40,
   "metadata": {},
   "outputs": [
    {
     "data": {
      "image/png": "[encoded data removed]",
      "text/plain": [
       "<Figure size 720x432 with 1 Axes>"
      ]
     },
     "metadata": {
      "needs_background": "light"
     },
     "output_type": "display_data"
    }
   ],
   "source": [
    "#see which day of the week have most trips\n",
    "startday = df.groupby('StartDayofweek').sum()\n",
    "startday = startday.drop(['Duration', 'Start station number', 'End station number', 'Start day', 'End day', 'Start Year', 'Start Month', 'Start hour', 'End Year', 'End Month', 'ENDDayofweek', 'End hour'], axis=1)\n",
    "#get bar graph of all Start Stations\n",
    "startday.plot(kind='bar', figsize=(10,6), stacked=False, color='Green', title='Week day 2012')\n",
    "pp.show()"
   ]
  },
  {
   "cell_type": "code",
   "execution_count": 39,
   "metadata": {},
   "outputs": [
    {
     "data": {
      "image/png": "[encoded data removed]",
      "text/plain": [
       "<Figure size 720x576 with 1 Axes>"
      ]
     },
     "metadata": {
      "needs_background": "light"
     },
     "output_type": "display_data"
    }
   ],
   "source": [
    "#see which day of the week have most trips\n",
    "endday = df.groupby('ENDDayofweek').sum()\n",
    "endday = endday.drop(['Duration', 'Start station number', 'End station number', 'Start day', 'End day', 'Start Year', 'Start Month', 'Start hour', 'End Year', 'End Month', 'StartDayofweek', 'End hour'], axis=1)\n",
    "#get bar graph of all Start Stations\n",
    "endday.plot(kind='bar', figsize=(10,8), color='Green', stacked=False, title='Week day 2012')\n",
    "pp.show()"
   ]
  },
  {
   "cell_type": "code",
   "execution_count": 46,
   "metadata": {},
   "outputs": [
    {
     "data": {
      "image/png": "[encoded data removed]",
      "text/plain": [
       "<Figure size 720x432 with 1 Axes>"
      ]
     },
     "metadata": {
      "needs_background": "light"
     },
     "output_type": "display_data"
    }
   ],
   "source": [
    "#see which hour of the week have most trips\n",
    "starthour = df.groupby('Start hour').sum()\n",
    "starthour = starthour.drop(['Duration', 'Start station number', 'Start day', 'End day', 'End station number', 'Start Year', 'Start Month', 'ENDDayofweek','End Year', 'End Month', 'StartDayofweek', 'End hour'], axis=1)\n",
    "#get bar graph of all Start Stations\n",
    "starthour.plot(kind='bar', figsize=(10,6), stacked=False, color='Green', title='Hours 2012')\n",
    "pp.show()"
   ]
  },
  {
   "cell_type": "code",
   "execution_count": 47,
   "metadata": {},
   "outputs": [
    {
     "data": {
      "image/png": "[encoded data removed]",
      "text/plain": [
       "<Figure size 720x432 with 1 Axes>"
      ]
     },
     "metadata": {
      "needs_background": "light"
     },
     "output_type": "display_data"
    }
   ],
   "source": [
    "#see which hour of the week have most trips\n",
    "endhour = df.groupby('End hour').sum()\n",
    "endhour = endhour.drop(['Duration', 'Start station number', 'End station number', 'Start day', 'End day', 'Start Year', 'Start hour', 'ENDDayofweek', 'Start Month', 'StartDayofweek','End Year', 'End Month', 'StartDayofweek'], axis=1)\n",
    "#get bar graph of all End hour\n",
    "endhour.plot(kind='bar', figsize=(10,6), color= 'Green', stacked=False, title='Hours 2012')\n",
    "pp.show()"
   ]
  },
  {
   "cell_type": "code",
   "execution_count": 48,
   "metadata": {},
   "outputs": [
    {
     "data": {
      "image/png": "[encoded data removed]",
      "text/plain": [
       "<Figure size 720x432 with 1 Axes>"
      ]
     },
     "metadata": {
      "needs_background": "light"
     },
     "output_type": "display_data"
    }
   ],
   "source": [
    "#see which day of the month have most trips\n",
    "startday = df.groupby('Start day').sum()\n",
    "startday = startday.drop(['Duration', 'Start station number', 'End station number', 'End hour', 'End day', 'Start Year', 'Start hour', 'ENDDayofweek', 'Start Month', 'StartDayofweek','End Year', 'End Month', 'StartDayofweek'], axis=1)\n",
    "#get bar graph of all End hour\n",
    "startday.plot(kind='bar', figsize=(10,6), stacked=False, color= 'Green', title='Day 2012')\n",
    "pp.show()"
   ]
  },
  {
   "cell_type": "code",
   "execution_count": 49,
   "metadata": {},
   "outputs": [
    {
     "data": {
      "image/png": "[encoded data removed]",
      "text/plain": [
       "<Figure size 720x432 with 1 Axes>"
      ]
     },
     "metadata": {
      "needs_background": "light"
     },
     "output_type": "display_data"
    }
   ],
   "source": [
    "#see which day of the month have most trips\n",
    "enddayss = df.groupby('End day').sum()\n",
    "enddayss = enddayss.drop(['Duration', 'Start station number', 'End station number', 'End hour', 'Start day', 'Start Year', 'Start hour', 'ENDDayofweek', 'Start Month', 'StartDayofweek','End Year', 'End Month', 'StartDayofweek'], axis=1)\n",
    "#get bar graph of all End hour\n",
    "enddayss.plot(kind='bar', figsize=(10,6), stacked=False, color= 'Green', title='Day 2016')\n",
    "pp.show()"
   ]
  },
  {
   "cell_type": "code",
   "execution_count": 50,
   "metadata": {},
   "outputs": [
    {
     "data": {
      "text/html": [
       "<div>\n",
       "<style scoped>\n",
       "    .dataframe tbody tr th:only-of-type {\n",
       "        vertical-align: middle;\n",
       "    }\n",
       "\n",
       "    .dataframe tbody tr th {\n",
       "        vertical-align: top;\n",
       "    }\n",
       "\n",
       "    .dataframe thead th {\n",
       "        text-align: right;\n",
       "    }\n",
       "</style>\n",
       "<table border=\"1\" class=\"dataframe\">\n",
       "  <thead>\n",
       "    <tr style=\"text-align: right;\">\n",
       "      <th></th>\n",
       "      <th>Duration</th>\n",
       "      <th>Start date</th>\n",
       "      <th>End date</th>\n",
       "      <th>Start station number</th>\n",
       "      <th>Start station</th>\n",
       "      <th>End station number</th>\n",
       "      <th>End station</th>\n",
       "      <th>Bike number</th>\n",
       "      <th>Member type</th>\n",
       "      <th>Trip count</th>\n",
       "      <th>Start Year</th>\n",
       "      <th>Start Month</th>\n",
       "      <th>StartDayofweek</th>\n",
       "      <th>Start hour</th>\n",
       "      <th>Start day</th>\n",
       "      <th>End Year</th>\n",
       "      <th>End Month</th>\n",
       "      <th>ENDDayofweek</th>\n",
       "      <th>End hour</th>\n",
       "      <th>End day</th>\n",
       "    </tr>\n",
       "  </thead>\n",
       "  <tbody>\n",
       "    <tr>\n",
       "      <th>231002</th>\n",
       "      <td>86326</td>\n",
       "      <td>2012-08-05 10:27:21</td>\n",
       "      <td>2012-08-06 10:26:07</td>\n",
       "      <td>31202</td>\n",
       "      <td>14th &amp; R St NW</td>\n",
       "      <td>31243</td>\n",
       "      <td>4th &amp; C St SW</td>\n",
       "      <td>W00751</td>\n",
       "      <td>Casual</td>\n",
       "      <td>1</td>\n",
       "      <td>2012</td>\n",
       "      <td>8</td>\n",
       "      <td>6</td>\n",
       "      <td>10</td>\n",
       "      <td>5</td>\n",
       "      <td>2012</td>\n",
       "      <td>8</td>\n",
       "      <td>0</td>\n",
       "      <td>10</td>\n",
       "      <td>6</td>\n",
       "    </tr>\n",
       "  </tbody>\n",
       "</table>\n",
       "</div>"
      ],
      "text/plain": [
       "        Duration          Start date            End date  Start station number   Start station  End station number    End station Bike number  \\\n",
       "231002     86326 2012-08-05 10:27:21 2012-08-06 10:26:07                 31202  14th & R St NW               31243  4th & C St SW      W00751   \n",
       "\n",
       "       Member type  Trip count  Start Year  Start Month  StartDayofweek  Start hour  Start day  End Year  End Month  ENDDayofweek  End hour  End day  \n",
       "231002      Casual           1        2012            8               6          10          5      2012          8             0        10        6  "
      ]
     },
     "execution_count": 50,
     "metadata": {},
     "output_type": "execute_result"
    }
   ],
   "source": [
    "df.sort_values(by='Duration',ascending=False, na_position='last').head(1)"
   ]
  },
  {
   "cell_type": "code",
   "execution_count": 51,
   "metadata": {},
   "outputs": [
    {
     "data": {
      "text/html": [
       "<div>\n",
       "<style scoped>\n",
       "    .dataframe tbody tr th:only-of-type {\n",
       "        vertical-align: middle;\n",
       "    }\n",
       "\n",
       "    .dataframe tbody tr th {\n",
       "        vertical-align: top;\n",
       "    }\n",
       "\n",
       "    .dataframe thead th {\n",
       "        text-align: right;\n",
       "    }\n",
       "</style>\n",
       "<table border=\"1\" class=\"dataframe\">\n",
       "  <thead>\n",
       "    <tr style=\"text-align: right;\">\n",
       "      <th></th>\n",
       "      <th>Duration</th>\n",
       "      <th>Start date</th>\n",
       "      <th>End date</th>\n",
       "      <th>Start station number</th>\n",
       "      <th>Start station</th>\n",
       "      <th>End station number</th>\n",
       "      <th>End station</th>\n",
       "      <th>Bike number</th>\n",
       "      <th>Member type</th>\n",
       "      <th>Trip count</th>\n",
       "      <th>Start Year</th>\n",
       "      <th>Start Month</th>\n",
       "      <th>StartDayofweek</th>\n",
       "      <th>Start hour</th>\n",
       "      <th>Start day</th>\n",
       "      <th>End Year</th>\n",
       "      <th>End Month</th>\n",
       "      <th>ENDDayofweek</th>\n",
       "      <th>End hour</th>\n",
       "      <th>End day</th>\n",
       "    </tr>\n",
       "  </thead>\n",
       "  <tbody>\n",
       "    <tr>\n",
       "      <th>6721</th>\n",
       "      <td>60</td>\n",
       "      <td>2012-07-02 09:08:36</td>\n",
       "      <td>2012-07-02 09:09:36</td>\n",
       "      <td>31007</td>\n",
       "      <td>Crystal City Metro / 18th &amp; Bell St</td>\n",
       "      <td>31002</td>\n",
       "      <td>20th &amp; Crystal Dr</td>\n",
       "      <td>W00753</td>\n",
       "      <td>Member</td>\n",
       "      <td>1</td>\n",
       "      <td>2012</td>\n",
       "      <td>7</td>\n",
       "      <td>0</td>\n",
       "      <td>9</td>\n",
       "      <td>2</td>\n",
       "      <td>2012</td>\n",
       "      <td>7</td>\n",
       "      <td>0</td>\n",
       "      <td>9</td>\n",
       "      <td>2</td>\n",
       "    </tr>\n",
       "  </tbody>\n",
       "</table>\n",
       "</div>"
      ],
      "text/plain": [
       "      Duration          Start date            End date  Start station number                        Start station  End station number  \\\n",
       "6721        60 2012-07-02 09:08:36 2012-07-02 09:09:36                 31007  Crystal City Metro / 18th & Bell St               31002   \n",
       "\n",
       "            End station Bike number Member type  Trip count  Start Year  Start Month  StartDayofweek  Start hour  Start day  End Year  End Month  \\\n",
       "6721  20th & Crystal Dr      W00753      Member           1        2012            7               0           9          2      2012          7   \n",
       "\n",
       "      ENDDayofweek  End hour  End day  \n",
       "6721             0         9        2  "
      ]
     },
     "execution_count": 51,
     "metadata": {},
     "output_type": "execute_result"
    }
   ],
   "source": [
    "df.sort_values(by='Duration',ascending=True, na_position='last').head(1)"
   ]
  },
  {
   "cell_type": "code",
   "execution_count": 52,
   "metadata": {},
   "outputs": [
    {
     "data": {
      "text/html": [
       "<div>\n",
       "<style scoped>\n",
       "    .dataframe tbody tr th:only-of-type {\n",
       "        vertical-align: middle;\n",
       "    }\n",
       "\n",
       "    .dataframe tbody tr th {\n",
       "        vertical-align: top;\n",
       "    }\n",
       "\n",
       "    .dataframe thead th {\n",
       "        text-align: right;\n",
       "    }\n",
       "</style>\n",
       "<table border=\"1\" class=\"dataframe\">\n",
       "  <thead>\n",
       "    <tr style=\"text-align: right;\">\n",
       "      <th></th>\n",
       "      <th>Duration</th>\n",
       "      <th>Start station number</th>\n",
       "      <th>End station number</th>\n",
       "      <th>Trip count</th>\n",
       "      <th>Start Month</th>\n",
       "      <th>StartDayofweek</th>\n",
       "      <th>Start hour</th>\n",
       "      <th>Start day</th>\n",
       "      <th>End Year</th>\n",
       "      <th>End Month</th>\n",
       "      <th>ENDDayofweek</th>\n",
       "      <th>End hour</th>\n",
       "      <th>End day</th>\n",
       "    </tr>\n",
       "    <tr>\n",
       "      <th>Start Year</th>\n",
       "      <th></th>\n",
       "      <th></th>\n",
       "      <th></th>\n",
       "      <th></th>\n",
       "      <th></th>\n",
       "      <th></th>\n",
       "      <th></th>\n",
       "      <th></th>\n",
       "      <th></th>\n",
       "      <th></th>\n",
       "      <th></th>\n",
       "      <th></th>\n",
       "      <th></th>\n",
       "    </tr>\n",
       "  </thead>\n",
       "  <tbody>\n",
       "    <tr>\n",
       "      <th>2012</th>\n",
       "      <td>1027.02187</td>\n",
       "      <td>31291.290587</td>\n",
       "      <td>31293.845192</td>\n",
       "      <td>1.0</td>\n",
       "      <td>6.807269</td>\n",
       "      <td>2.997111</td>\n",
       "      <td>14.131017</td>\n",
       "      <td>15.608737</td>\n",
       "      <td>2012.000004</td>\n",
       "      <td>6.807349</td>\n",
       "      <td>2.998468</td>\n",
       "      <td>14.318702</td>\n",
       "      <td>15.608798</td>\n",
       "    </tr>\n",
       "  </tbody>\n",
       "</table>\n",
       "</div>"
      ],
      "text/plain": [
       "              Duration  Start station number  End station number  Trip count  Start Month  StartDayofweek  Start hour  Start day     End Year  \\\n",
       "Start Year                                                                                                                                      \n",
       "2012        1027.02187          31291.290587        31293.845192         1.0     6.807269        2.997111   14.131017  15.608737  2012.000004   \n",
       "\n",
       "            End Month  ENDDayofweek   End hour    End day  \n",
       "Start Year                                                 \n",
       "2012         6.807349      2.998468  14.318702  15.608798  "
      ]
     },
     "execution_count": 52,
     "metadata": {},
     "output_type": "execute_result"
    }
   ],
   "source": [
    "duration = df.groupby('Start Year').mean()\n",
    "duration"
   ]
  }
 ],
 "metadata": {
  "kernelspec": {
   "display_name": "Python 3.9.12 ('base')",
   "language": "python",
   "name": "python3"
  },
  "language_info": {
   "codemirror_mode": {
    "name": "ipython",
    "version": 3
   },
   "file_extension": ".py",
   "mimetype": "text/x-python",
   "name": "python",
   "nbconvert_exporter": "python",
   "pygments_lexer": "ipython3",
   "version": "3.9.12"
  },
  "orig_nbformat": 4,
  "vscode": {
   "interpreter": {
    "hash": "5e9618fee633d24739baa1b51817492fff0a48c82366ee100ae5d2ecaeaf58bd"
   }
  }
 },
 "nbformat": 4,
 "nbformat_minor": 2
}
